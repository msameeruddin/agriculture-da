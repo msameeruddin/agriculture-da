{
 "cells": [
  {
   "cell_type": "markdown",
   "metadata": {},
   "source": [
    "### `import` Packages"
   ]
  },
  {
   "cell_type": "code",
   "execution_count": 1,
   "metadata": {},
   "outputs": [],
   "source": [
    "import numpy as np\n",
    "import pandas as pd\n",
    "import geopandas as gpd\n",
    "\n",
    "from matplotlib import pyplot as plt"
   ]
  },
  {
   "cell_type": "markdown",
   "metadata": {},
   "source": [
    "### Data Reading"
   ]
  },
  {
   "cell_type": "code",
   "execution_count": 2,
   "metadata": {},
   "outputs": [],
   "source": [
    "agri_df = pd.read_csv(filepath_or_buffer='data/agriculture_data.csv')\n",
    "india_gdf = gpd.read_file(filename='data/india_geo/')"
   ]
  },
  {
   "cell_type": "code",
   "execution_count": 3,
   "metadata": {},
   "outputs": [
    {
     "data": {
      "text/html": [
       "<div>\n",
       "<style scoped>\n",
       "    .dataframe tbody tr th:only-of-type {\n",
       "        vertical-align: middle;\n",
       "    }\n",
       "\n",
       "    .dataframe tbody tr th {\n",
       "        vertical-align: top;\n",
       "    }\n",
       "\n",
       "    .dataframe thead th {\n",
       "        text-align: right;\n",
       "    }\n",
       "</style>\n",
       "<table border=\"1\" class=\"dataframe\">\n",
       "  <thead>\n",
       "    <tr style=\"text-align: right;\">\n",
       "      <th></th>\n",
       "      <th>state</th>\n",
       "      <th>district</th>\n",
       "      <th>market</th>\n",
       "      <th>commodity</th>\n",
       "      <th>variety</th>\n",
       "      <th>arrival_date</th>\n",
       "      <th>min_price</th>\n",
       "      <th>max_price</th>\n",
       "      <th>modal_price</th>\n",
       "    </tr>\n",
       "  </thead>\n",
       "  <tbody>\n",
       "    <tr>\n",
       "      <th>0</th>\n",
       "      <td>Andaman and Nicobar</td>\n",
       "      <td>South Andaman</td>\n",
       "      <td>Port Blair</td>\n",
       "      <td>Amaranthus</td>\n",
       "      <td>Amaranthus</td>\n",
       "      <td>04/03/2019</td>\n",
       "      <td>6000</td>\n",
       "      <td>8000</td>\n",
       "      <td>7000</td>\n",
       "    </tr>\n",
       "    <tr>\n",
       "      <th>1</th>\n",
       "      <td>Andaman and Nicobar</td>\n",
       "      <td>South Andaman</td>\n",
       "      <td>Port Blair</td>\n",
       "      <td>Banana - Green</td>\n",
       "      <td>Banana - Green</td>\n",
       "      <td>04/03/2019</td>\n",
       "      <td>4500</td>\n",
       "      <td>5500</td>\n",
       "      <td>5000</td>\n",
       "    </tr>\n",
       "    <tr>\n",
       "      <th>2</th>\n",
       "      <td>Andaman and Nicobar</td>\n",
       "      <td>South Andaman</td>\n",
       "      <td>Port Blair</td>\n",
       "      <td>Bhindi(Ladies Finger)</td>\n",
       "      <td>Bhindi</td>\n",
       "      <td>04/03/2019</td>\n",
       "      <td>6000</td>\n",
       "      <td>8000</td>\n",
       "      <td>7000</td>\n",
       "    </tr>\n",
       "    <tr>\n",
       "      <th>3</th>\n",
       "      <td>Andaman and Nicobar</td>\n",
       "      <td>South Andaman</td>\n",
       "      <td>Port Blair</td>\n",
       "      <td>Bitter gourd</td>\n",
       "      <td>Other</td>\n",
       "      <td>04/03/2019</td>\n",
       "      <td>6000</td>\n",
       "      <td>8000</td>\n",
       "      <td>7000</td>\n",
       "    </tr>\n",
       "    <tr>\n",
       "      <th>4</th>\n",
       "      <td>Andaman and Nicobar</td>\n",
       "      <td>South Andaman</td>\n",
       "      <td>Port Blair</td>\n",
       "      <td>Black pepper</td>\n",
       "      <td>Other</td>\n",
       "      <td>04/03/2019</td>\n",
       "      <td>110000</td>\n",
       "      <td>130000</td>\n",
       "      <td>120000</td>\n",
       "    </tr>\n",
       "  </tbody>\n",
       "</table>\n",
       "</div>"
      ],
      "text/plain": [
       "                 state       district      market              commodity  \\\n",
       "0  Andaman and Nicobar  South Andaman  Port Blair             Amaranthus   \n",
       "1  Andaman and Nicobar  South Andaman  Port Blair         Banana - Green   \n",
       "2  Andaman and Nicobar  South Andaman  Port Blair  Bhindi(Ladies Finger)   \n",
       "3  Andaman and Nicobar  South Andaman  Port Blair           Bitter gourd   \n",
       "4  Andaman and Nicobar  South Andaman  Port Blair           Black pepper   \n",
       "\n",
       "          variety arrival_date  min_price  max_price  modal_price  \n",
       "0      Amaranthus   04/03/2019       6000       8000         7000  \n",
       "1  Banana - Green   04/03/2019       4500       5500         5000  \n",
       "2          Bhindi   04/03/2019       6000       8000         7000  \n",
       "3           Other   04/03/2019       6000       8000         7000  \n",
       "4           Other   04/03/2019     110000     130000       120000  "
      ]
     },
     "execution_count": 3,
     "metadata": {},
     "output_type": "execute_result"
    }
   ],
   "source": [
    "agri_df.head()"
   ]
  },
  {
   "cell_type": "code",
   "execution_count": 4,
   "metadata": {},
   "outputs": [
    {
     "data": {
      "text/plain": [
       "(2238, 9)"
      ]
     },
     "execution_count": 4,
     "metadata": {},
     "output_type": "execute_result"
    }
   ],
   "source": [
    "agri_df.shape"
   ]
  },
  {
   "cell_type": "code",
   "execution_count": 5,
   "metadata": {},
   "outputs": [
    {
     "data": {
      "text/html": [
       "<div>\n",
       "<style scoped>\n",
       "    .dataframe tbody tr th:only-of-type {\n",
       "        vertical-align: middle;\n",
       "    }\n",
       "\n",
       "    .dataframe tbody tr th {\n",
       "        vertical-align: top;\n",
       "    }\n",
       "\n",
       "    .dataframe thead th {\n",
       "        text-align: right;\n",
       "    }\n",
       "</style>\n",
       "<table border=\"1\" class=\"dataframe\">\n",
       "  <thead>\n",
       "    <tr style=\"text-align: right;\">\n",
       "      <th></th>\n",
       "      <th>objectid</th>\n",
       "      <th>statecode</th>\n",
       "      <th>statename</th>\n",
       "      <th>state_ut</th>\n",
       "      <th>distcode</th>\n",
       "      <th>distname</th>\n",
       "      <th>distarea</th>\n",
       "      <th>totalpopul</th>\n",
       "      <th>totalhh</th>\n",
       "      <th>totpopmale</th>\n",
       "      <th>totpopfema</th>\n",
       "      <th>st_areasha</th>\n",
       "      <th>st_lengths</th>\n",
       "      <th>geometry</th>\n",
       "    </tr>\n",
       "  </thead>\n",
       "  <tbody>\n",
       "    <tr>\n",
       "      <th>0</th>\n",
       "      <td>1</td>\n",
       "      <td>05</td>\n",
       "      <td>Uttarakhand</td>\n",
       "      <td>STATE</td>\n",
       "      <td>066</td>\n",
       "      <td>Nainital</td>\n",
       "      <td>4251.0</td>\n",
       "      <td>954605.0</td>\n",
       "      <td>191383.0</td>\n",
       "      <td>493666.0</td>\n",
       "      <td>460939.0</td>\n",
       "      <td>5.322546e+09</td>\n",
       "      <td>506182.695952</td>\n",
       "      <td>POLYGON ((79.52659 29.05543, 79.52550 29.05545...</td>\n",
       "    </tr>\n",
       "    <tr>\n",
       "      <th>1</th>\n",
       "      <td>2</td>\n",
       "      <td>05</td>\n",
       "      <td>Uttarakhand</td>\n",
       "      <td>STATE</td>\n",
       "      <td>060</td>\n",
       "      <td>Dehradun</td>\n",
       "      <td>3088.0</td>\n",
       "      <td>1696694.0</td>\n",
       "      <td>347001.0</td>\n",
       "      <td>892199.0</td>\n",
       "      <td>804495.0</td>\n",
       "      <td>4.177236e+09</td>\n",
       "      <td>578188.681639</td>\n",
       "      <td>POLYGON ((77.87557 30.26052, 77.87467 30.26087...</td>\n",
       "    </tr>\n",
       "  </tbody>\n",
       "</table>\n",
       "</div>"
      ],
      "text/plain": [
       "   objectid statecode    statename state_ut distcode  distname  distarea  \\\n",
       "0         1        05  Uttarakhand    STATE      066  Nainital    4251.0   \n",
       "1         2        05  Uttarakhand    STATE      060  Dehradun    3088.0   \n",
       "\n",
       "   totalpopul   totalhh  totpopmale  totpopfema    st_areasha     st_lengths  \\\n",
       "0    954605.0  191383.0    493666.0    460939.0  5.322546e+09  506182.695952   \n",
       "1   1696694.0  347001.0    892199.0    804495.0  4.177236e+09  578188.681639   \n",
       "\n",
       "                                            geometry  \n",
       "0  POLYGON ((79.52659 29.05543, 79.52550 29.05545...  \n",
       "1  POLYGON ((77.87557 30.26052, 77.87467 30.26087...  "
      ]
     },
     "execution_count": 5,
     "metadata": {},
     "output_type": "execute_result"
    }
   ],
   "source": [
    "india_gdf.head(2)"
   ]
  },
  {
   "cell_type": "code",
   "execution_count": 6,
   "metadata": {},
   "outputs": [
    {
     "data": {
      "text/plain": [
       "<AxesSubplot:>"
      ]
     },
     "execution_count": 6,
     "metadata": {},
     "output_type": "execute_result"
    },
    {
     "data": {
      "image/png": "[encoded data removed]",
      "text/plain": [
       "<Figure size 432x288 with 1 Axes>"
      ]
     },
     "metadata": {
      "needs_background": "light"
     },
     "output_type": "display_data"
    }
   ],
   "source": [
    "india_gdf.plot()"
   ]
  },
  {
   "cell_type": "markdown",
   "metadata": {},
   "source": [
    "### Data Manipulation"
   ]
  },
  {
   "cell_type": "code",
   "execution_count": 7,
   "metadata": {},
   "outputs": [],
   "source": [
    "india_gdf['statename'] = india_gdf['statename'].apply(\n",
    "    func=lambda x : x.replace('&', 'and') if '&' in x else x\n",
    ")"
   ]
  },
  {
   "cell_type": "markdown",
   "metadata": {},
   "source": [
    "### String Sequence Matcher"
   ]
  },
  {
   "cell_type": "code",
   "execution_count": 8,
   "metadata": {},
   "outputs": [],
   "source": [
    "from difflib import SequenceMatcher"
   ]
  },
  {
   "cell_type": "code",
   "execution_count": 9,
   "metadata": {},
   "outputs": [],
   "source": [
    "def get_similar_string(string, string_list):\n",
    "    name_ratios = {}\n",
    "    \n",
    "    for i in string_list:\n",
    "        dm = SequenceMatcher(None, string, i).ratio()\n",
    "        name_ratios[i] = dm\n",
    "    \n",
    "    name_ratios = dict(sorted(name_ratios.items(), key=lambda v : v[1], reverse=True))\n",
    "    similar_string = list(name_ratios.keys())[0]\n",
    "    \n",
    "    return similar_string"
   ]
  },
  {
   "cell_type": "markdown",
   "metadata": {},
   "source": [
    "### Data Replacements (editing)"
   ]
  },
  {
   "cell_type": "code",
   "execution_count": 10,
   "metadata": {},
   "outputs": [],
   "source": [
    "state_replacements = {\n",
    "    'Andaman and Nicobar Islands' : 'Andaman and Nicobar',\n",
    "    'Orissa' : 'Odisha',\n",
    "    'Uttarakhand' : 'Uttrakhand',\n",
    "    'Chhatisgarh' : 'Chattisgarh'\n",
    "}\n",
    "\n",
    "district_replacements = {\n",
    "    'Thrissur': 'Thirssur',\n",
    "    'Viluppuram': 'Villupuram',\n",
    "    'Kasaragod': 'Kasargod',\n",
    "    'Vadodara': 'Vadodara(Baroda)',\n",
    "    'Bulandshahr': 'Bulandshahar',\n",
    "    'Tarn Taran': 'Tarntaran',\n",
    "    'Sundargarh': 'Sundergarh',\n",
    "    'Kannauj': 'Kannuj',\n",
    "    'Dehradun': 'Dehradoon',\n",
    "    'Jalor': 'Jalore',\n",
    "    'Sipahijula': 'Sepahijala',\n",
    "    'South Twenty Four Parganas': 'Sounth 24 Parganas',\n",
    "    'Solapur': 'Sholapur',\n",
    "    'Moradabad': 'Muradabad',\n",
    "    'Rupnagar': 'Ropar (Rupnagar)',\n",
    "    'North Twenty Four Parganas': 'North 24 Parganas',\n",
    "    'Lakhimpur': 'Khiri (Lakhimpur)',\n",
    "    'Panch Mahals': 'Panchmahals',\n",
    "    'Maldah': 'Malda',\n",
    "    'Barwani': 'Badwani',\n",
    "    'Purba Medinipur': 'Medinipur(W)',\n",
    "    'Gautam Buddha Nagar': 'Gautam Budh Nagar',\n",
    "    'Chitrakoot': 'Chitrakut',\n",
    "    'Rangareddy': 'Ranga Reddy',\n",
    "    'Narsimhapur': 'Narsinghpur',\n",
    "    'Chittoor': 'Chittor',\n",
    "    'Anugul': 'Angul',\n",
    "    'Farrukhabad': 'Farukhabad',\n",
    "    'Nabarangapur': 'Nowarangpur',\n",
    "    'Tiruvannamalai': 'Thiruvannamalai',\n",
    "    'Jalaun': 'Jalaun (Orai)',\n",
    "    'Bathinda': 'Bhatinda',\n",
    "    'Hugli': 'Hooghly',\n",
    "    'Hydrabad': 'Hyderabad',\n",
    "    'Ahmadnagar': 'Ahmednagar',\n",
    "    'Rae Bareli': 'Raebarelli',\n",
    "    'Udham Singh Nagar': 'UdhamSinghNagar',\n",
    "    'Kanniyakumari': 'Nagercoil (Kannyiakumari)',\n",
    "    'Anuppur': 'Anupur',\n",
    "    'Chittaurgarh': 'Chittorgarh',\n",
    "    'Buldana': 'Buldhana'\n",
    "}\n",
    "\n",
    "agri_dist_replacements = {\n",
    "    'Lakhimpur' : 'Khiri (Lakhimpur)',\n",
    "    'Mayurbhanja' : 'Mayurbhanj'\n",
    "}"
   ]
  },
  {
   "cell_type": "code",
   "execution_count": 11,
   "metadata": {},
   "outputs": [],
   "source": [
    "for (o, r) in state_replacements.items():\n",
    "    india_gdf['statename'].replace(to_replace=o, value=r, inplace=True)\n",
    "\n",
    "for (o, r) in district_replacements.items():\n",
    "    india_gdf['distname'].replace(to_replace=o, value=r, inplace=True)\n",
    "\n",
    "for (o, r) in agri_dist_replacements.items():\n",
    "    agri_df['district'].replace(to_replace=o, value=r, inplace=True)"
   ]
  },
  {
   "cell_type": "markdown",
   "metadata": {},
   "source": [
    "**Districts that didn't match with any:**\n",
    "\n",
    "* Burdwan\n",
    "* Kanpur\n",
    "* Balasore\n",
    "* Bhadohi(Sant Ravi Nagar)\n",
    "* Mau(Maunathbhanjan)\n",
    "* Kanker\n",
    "* Khandwa"
   ]
  },
  {
   "cell_type": "markdown",
   "metadata": {},
   "source": [
    "### Data Writing"
   ]
  },
  {
   "cell_type": "code",
   "execution_count": 12,
   "metadata": {},
   "outputs": [],
   "source": [
    "# agri_df.to_csv(path_or_buf='data/agriculture_data_new.csv', index=None)"
   ]
  },
  {
   "cell_type": "code",
   "execution_count": 13,
   "metadata": {},
   "outputs": [],
   "source": [
    "# india_gdf.to_file(filename='data/india_geo_new')"
   ]
  }
 ],
 "metadata": {
  "kernelspec": {
   "display_name": "Python 3",
   "language": "python",
   "name": "python3"
  },
  "language_info": {
   "codemirror_mode": {
    "name": "ipython",
    "version": 3
   },
   "file_extension": ".py",
   "mimetype": "text/x-python",
   "name": "python",
   "nbconvert_exporter": "python",
   "pygments_lexer": "ipython3",
   "version": "3.8.4"
  },
  "varInspector": {
   "cols": {
    "lenName": 16,
    "lenType": 16,
    "lenVar": 40
   },
   "kernels_config": {
    "python": {
     "delete_cmd_postfix": "",
     "delete_cmd_prefix": "del ",
     "library": "var_list.py",
     "varRefreshCmd": "print(var_dic_list())"
    },
    "r": {
     "delete_cmd_postfix": ") ",
     "delete_cmd_prefix": "rm(",
     "library": "var_list.r",
     "varRefreshCmd": "cat(var_dic_list()) "
    }
   },
   "types_to_exclude": [
    "module",
    "function",
    "builtin_function_or_method",
    "instance",
    "_Feature"
   ],
   "window_display": false
  }
 },
 "nbformat": 4,
 "nbformat_minor": 4
}
